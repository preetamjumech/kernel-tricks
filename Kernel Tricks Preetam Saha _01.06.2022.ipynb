{
 "cells": [
  {
   "cell_type": "code",
   "execution_count": 30,
   "id": "cd458646",
   "metadata": {},
   "outputs": [],
   "source": [
    "import numpy as np\n",
    "import pandas as pd\n",
    "import matplotlib.pyplot as plt\n",
    "from matplotlib.axes._axes import _log as matplotlib_axes_logger\n",
    "from mpl_toolkits import mplot3d\n",
    "from sklearn.model_selection import train_test_split\n",
    "from sklearn.svm import SVC\n",
    "from matplotlib.colors import ListedColormap\n",
    "\n",
    "import warnings\n",
    "warnings.filterwarnings(\"ignore\")"
   ]
  },
  {
   "cell_type": "code",
   "execution_count": 3,
   "id": "20af3db6",
   "metadata": {},
   "outputs": [],
   "source": [
    "from sklearn.datasets import make_circles"
   ]
  },
  {
   "cell_type": "code",
   "execution_count": 18,
   "id": "33587f3d",
   "metadata": {},
   "outputs": [
    {
     "data": {
      "image/png": "[encoded data removed]",
      "text/plain": [
       "<Figure size 432x288 with 1 Axes>"
      ]
     },
     "metadata": {
      "needs_background": "light"
     },
     "output_type": "display_data"
    }
   ],
   "source": [
    "X,y = make_circles(100,factor=.1,noise=.1)\n",
    "plt.scatter(X[:,0],X[:,1],c=y,s=50,cmap=\"bwr\")\n",
    "plt.show()"
   ]
  },
  {
   "cell_type": "code",
   "execution_count": 19,
   "id": "17c02631",
   "metadata": {},
   "outputs": [
    {
     "data": {
      "text/plain": [
       "array([[-0.34417492,  0.08714225],\n",
       "       [-0.46063156, -0.93061218],\n",
       "       [-0.03588737,  0.18193526],\n",
       "       [-0.10982382, -0.04123372],\n",
       "       [ 0.08412191,  0.05714896],\n",
       "       [-0.93333034, -0.574295  ],\n",
       "       [ 0.22533001,  0.26775472],\n",
       "       [ 0.13526738,  0.09955367],\n",
       "       [-0.00976519, -0.95369595],\n",
       "       [-0.34473868,  0.63231727],\n",
       "       [ 0.12227065, -1.20699075],\n",
       "       [-0.4594292 , -0.77503953],\n",
       "       [-0.04441645, -0.07537766],\n",
       "       [ 0.44559235, -0.87449827],\n",
       "       [ 0.67709872, -0.88394386],\n",
       "       [-0.00572411, -0.05251175],\n",
       "       [-0.18961097,  0.07746382],\n",
       "       [ 0.89340432, -0.07302636],\n",
       "       [ 0.38839652,  0.96370412],\n",
       "       [-0.24945495, -0.97527312],\n",
       "       [ 1.14902471, -0.26054781],\n",
       "       [-0.15276851,  0.12037213],\n",
       "       [-0.12253934, -0.14887049],\n",
       "       [ 0.00455342,  0.04038211],\n",
       "       [ 0.21103876,  0.01767062],\n",
       "       [-0.13412029, -0.13473063],\n",
       "       [-0.02327442,  0.02707364],\n",
       "       [ 0.64021939, -0.59191621],\n",
       "       [-0.72785085,  0.51828524],\n",
       "       [-0.19600722,  0.88102588],\n",
       "       [ 0.65758228, -0.9362612 ],\n",
       "       [ 1.05848683, -0.23238611],\n",
       "       [-0.10169673, -0.16962375],\n",
       "       [-0.68931558, -0.68163742],\n",
       "       [-0.94300277,  0.49980547],\n",
       "       [ 0.09286232,  1.05674462],\n",
       "       [-0.08203381,  0.02314819],\n",
       "       [-0.39716695,  0.87325363],\n",
       "       [-1.01920957,  0.24481328],\n",
       "       [-0.0286668 ,  0.07314828],\n",
       "       [-0.93982864, -0.20450181],\n",
       "       [ 0.3214108 ,  0.8903819 ],\n",
       "       [ 0.15365144, -0.1585813 ],\n",
       "       [ 0.48597268, -0.92654619],\n",
       "       [-0.97218755, -0.37755331],\n",
       "       [-0.03462305, -0.09594837],\n",
       "       [ 0.94641891, -0.36000948],\n",
       "       [-0.10647497, -0.18836435],\n",
       "       [ 0.13055797, -0.07406365],\n",
       "       [-0.08422207,  0.12721309],\n",
       "       [ 0.11392764,  0.09082699],\n",
       "       [ 0.86139284,  0.75132383],\n",
       "       [ 0.21424527,  0.0188919 ],\n",
       "       [ 0.72964156, -0.8358039 ],\n",
       "       [-0.86571862, -0.49053258],\n",
       "       [-0.09880834, -0.02395549],\n",
       "       [ 1.09329064, -0.13373488],\n",
       "       [-0.12896357, -0.11115754],\n",
       "       [-0.46363527, -1.09279336],\n",
       "       [ 0.20792649, -0.03109864],\n",
       "       [ 0.30132074,  0.00128202],\n",
       "       [ 1.05585327,  0.45996901],\n",
       "       [ 0.19658419, -0.16539028],\n",
       "       [ 0.0620171 , -0.13448119],\n",
       "       [-0.19653546,  0.07364086],\n",
       "       [-0.48357294,  0.91931178],\n",
       "       [ 0.01985219, -0.08745236],\n",
       "       [-0.75848176, -0.61984522],\n",
       "       [-1.14310483,  0.29374034],\n",
       "       [ 0.16558352,  0.11128976],\n",
       "       [-0.92843057,  0.77834991],\n",
       "       [-0.06831025, -0.05110616],\n",
       "       [ 1.07549411,  0.27897228],\n",
       "       [ 0.10265041,  0.08129899],\n",
       "       [ 0.15130014,  0.1092178 ],\n",
       "       [ 0.04729237, -0.17361989],\n",
       "       [ 0.49498105,  0.91535686],\n",
       "       [-0.04252859,  0.18130552],\n",
       "       [ 0.14144547,  0.07408852],\n",
       "       [ 0.01793104,  0.10088981],\n",
       "       [-1.07403303,  0.47168616],\n",
       "       [-0.15939624, -0.07344208],\n",
       "       [ 0.3217462 ,  1.00638349],\n",
       "       [-0.07562345, -0.09837389],\n",
       "       [ 0.01551293, -0.99042631],\n",
       "       [ 0.58020438,  0.76856711],\n",
       "       [-0.86820454, -0.00562726],\n",
       "       [ 0.06714291,  1.1611182 ],\n",
       "       [ 0.15302604,  0.08233377],\n",
       "       [ 0.63095323,  0.72578649],\n",
       "       [ 0.93255522, -0.52175483],\n",
       "       [-0.33120601, -0.04502691],\n",
       "       [-0.66705846,  0.97830093],\n",
       "       [ 0.1393977 , -0.00416432],\n",
       "       [-0.09230851, -0.06909626],\n",
       "       [-0.91813712, -0.18775201],\n",
       "       [-0.00238916, -0.00458379],\n",
       "       [ 0.17107897, -0.01310236],\n",
       "       [-0.22169967,  0.16654025],\n",
       "       [ 1.02592285,  0.56555792]])"
      ]
     },
     "execution_count": 19,
     "metadata": {},
     "output_type": "execute_result"
    }
   ],
   "source": [
    "X"
   ]
  },
  {
   "cell_type": "code",
   "execution_count": 25,
   "id": "2388b9b7",
   "metadata": {},
   "outputs": [
    {
     "data": {
      "text/plain": [
       "array([-0.34417492,  0.08714225, -0.46063156, -0.93061218, -0.03588737,\n",
       "        0.18193526, -0.10982382, -0.04123372,  0.08412191,  0.05714896,\n",
       "       -0.93333034, -0.574295  ,  0.22533001,  0.26775472,  0.13526738,\n",
       "        0.09955367, -0.00976519, -0.95369595, -0.34473868,  0.63231727,\n",
       "        0.12227065, -1.20699075, -0.4594292 , -0.77503953, -0.04441645,\n",
       "       -0.07537766,  0.44559235, -0.87449827,  0.67709872, -0.88394386,\n",
       "       -0.00572411, -0.05251175, -0.18961097,  0.07746382,  0.89340432,\n",
       "       -0.07302636,  0.38839652,  0.96370412, -0.24945495, -0.97527312,\n",
       "        1.14902471, -0.26054781, -0.15276851,  0.12037213, -0.12253934,\n",
       "       -0.14887049,  0.00455342,  0.04038211,  0.21103876,  0.01767062,\n",
       "       -0.13412029, -0.13473063, -0.02327442,  0.02707364,  0.64021939,\n",
       "       -0.59191621, -0.72785085,  0.51828524, -0.19600722,  0.88102588,\n",
       "        0.65758228, -0.9362612 ,  1.05848683, -0.23238611, -0.10169673,\n",
       "       -0.16962375, -0.68931558, -0.68163742, -0.94300277,  0.49980547,\n",
       "        0.09286232,  1.05674462, -0.08203381,  0.02314819, -0.39716695,\n",
       "        0.87325363, -1.01920957,  0.24481328, -0.0286668 ,  0.07314828,\n",
       "       -0.93982864, -0.20450181,  0.3214108 ,  0.8903819 ,  0.15365144,\n",
       "       -0.1585813 ,  0.48597268, -0.92654619, -0.97218755, -0.37755331,\n",
       "       -0.03462305, -0.09594837,  0.94641891, -0.36000948, -0.10647497,\n",
       "       -0.18836435,  0.13055797, -0.07406365, -0.08422207,  0.12721309,\n",
       "        0.11392764,  0.09082699,  0.86139284,  0.75132383,  0.21424527,\n",
       "        0.0188919 ,  0.72964156, -0.8358039 , -0.86571862, -0.49053258,\n",
       "       -0.09880834, -0.02395549,  1.09329064, -0.13373488, -0.12896357,\n",
       "       -0.11115754, -0.46363527, -1.09279336,  0.20792649, -0.03109864,\n",
       "        0.30132074,  0.00128202,  1.05585327,  0.45996901,  0.19658419,\n",
       "       -0.16539028,  0.0620171 , -0.13448119, -0.19653546,  0.07364086,\n",
       "       -0.48357294,  0.91931178,  0.01985219, -0.08745236, -0.75848176,\n",
       "       -0.61984522, -1.14310483,  0.29374034,  0.16558352,  0.11128976,\n",
       "       -0.92843057,  0.77834991, -0.06831025, -0.05110616,  1.07549411,\n",
       "        0.27897228,  0.10265041,  0.08129899,  0.15130014,  0.1092178 ,\n",
       "        0.04729237, -0.17361989,  0.49498105,  0.91535686, -0.04252859,\n",
       "        0.18130552,  0.14144547,  0.07408852,  0.01793104,  0.10088981,\n",
       "       -1.07403303,  0.47168616, -0.15939624, -0.07344208,  0.3217462 ,\n",
       "        1.00638349, -0.07562345, -0.09837389,  0.01551293, -0.99042631,\n",
       "        0.58020438,  0.76856711, -0.86820454, -0.00562726,  0.06714291,\n",
       "        1.1611182 ,  0.15302604,  0.08233377,  0.63095323,  0.72578649,\n",
       "        0.93255522, -0.52175483, -0.33120601, -0.04502691, -0.66705846,\n",
       "        0.97830093,  0.1393977 , -0.00416432, -0.09230851, -0.06909626,\n",
       "       -0.91813712, -0.18775201, -0.00238916, -0.00458379,  0.17107897,\n",
       "       -0.01310236, -0.22169967,  0.16654025,  1.02592285,  0.56555792])"
      ]
     },
     "execution_count": 25,
     "metadata": {},
     "output_type": "execute_result"
    }
   ],
   "source": [
    "#X.ravel()"
   ]
  },
  {
   "cell_type": "code",
   "execution_count": 20,
   "id": "4aae9c74",
   "metadata": {},
   "outputs": [
    {
     "data": {
      "text/plain": [
       "array([1, 0, 1, 1, 1, 0, 1, 1, 0, 0, 0, 0, 1, 0, 0, 1, 1, 0, 0, 0, 0, 1,\n",
       "       1, 1, 1, 1, 1, 0, 0, 0, 0, 0, 1, 0, 0, 0, 1, 0, 0, 1, 0, 0, 1, 0,\n",
       "       0, 1, 0, 1, 1, 1, 1, 0, 1, 0, 0, 1, 0, 1, 0, 1, 1, 0, 1, 1, 1, 0,\n",
       "       1, 0, 0, 1, 0, 1, 0, 1, 1, 1, 0, 1, 1, 1, 0, 1, 0, 1, 0, 0, 0, 0,\n",
       "       1, 0, 0, 1, 0, 1, 1, 0, 1, 1, 1, 0], dtype=int64)"
      ]
     },
     "execution_count": 20,
     "metadata": {},
     "output_type": "execute_result"
    }
   ],
   "source": [
    "y"
   ]
  },
  {
   "cell_type": "code",
   "execution_count": 24,
   "id": "5c6a0e84",
   "metadata": {},
   "outputs": [
    {
     "data": {
      "text/plain": [
       "array([1, 0, 1, 1, 0, 1, 0, 0, 1, 0, 1, 1, 0, 0, 1, 0, 0, 0, 1, 0, 0, 0,\n",
       "       0, 1, 1, 1, 0, 0, 1, 1, 1, 1, 0, 1, 0, 1, 0, 1, 0, 0, 0, 1, 1, 1,\n",
       "       0, 1, 1, 0, 0, 1, 1, 1, 0, 0, 0, 0, 1, 0, 1, 0, 0, 0, 1, 1, 1, 0,\n",
       "       1, 0, 1, 1, 1, 1, 1, 0, 0, 0, 1, 1, 0, 1], dtype=int64)"
      ]
     },
     "execution_count": 24,
     "metadata": {},
     "output_type": "execute_result"
    }
   ],
   "source": [
    "y_train.ravel()"
   ]
  },
  {
   "cell_type": "code",
   "execution_count": 21,
   "id": "3a981e95",
   "metadata": {},
   "outputs": [],
   "source": [
    "X_train, X_test, y_train, y_test = train_test_split(X, y, test_size = 0.20)"
   ]
  },
  {
   "cell_type": "code",
   "execution_count": 23,
   "id": "0b68e704",
   "metadata": {},
   "outputs": [],
   "source": [
    "classifier = SVC(kernel=\"linear\")\n",
    "classifier.fit(X_train, y_train)\n",
    "y_pred = classifier.predict(X_test)"
   ]
  },
  {
   "cell_type": "code",
   "execution_count": 26,
   "id": "360261c6",
   "metadata": {},
   "outputs": [
    {
     "data": {
      "text/plain": [
       "0.5"
      ]
     },
     "execution_count": 26,
     "metadata": {},
     "output_type": "execute_result"
    }
   ],
   "source": [
    "from sklearn.metrics import accuracy_score\n",
    "accuracy_score(y_test, y_pred)"
   ]
  },
  {
   "cell_type": "code",
   "execution_count": 27,
   "id": "af04a065",
   "metadata": {},
   "outputs": [],
   "source": [
    "zero_one_colourmap = ListedColormap(('blue', 'red'))\n",
    "def plot_decision_boundary(X, y, clf):\n",
    "    X_set, y_set = X, y\n",
    "    X1, X2 = np.meshgrid(np.arange(start = X_set[:, 0].min() - 1, \n",
    "                                 stop = X_set[:, 0].max() + 1, \n",
    "                                 step = 0.01),\n",
    "                       np.arange(start = X_set[:, 1].min() - 1, \n",
    "                                 stop = X_set[:, 1].max() + 1, \n",
    "                                 step = 0.01))\n",
    "  \n",
    "    plt.contourf(X1, X2, clf.predict(np.array([X1.ravel(), \n",
    "                                             X2.ravel()]).T).reshape(X1.shape),\n",
    "               alpha = 0.75, \n",
    "               cmap = zero_one_colourmap)\n",
    "    plt.xlim(X1.min(), X1.max())\n",
    "    plt.ylim(X2.min(), X2.max())\n",
    "    for i, j in enumerate(np.unique(y_set)):\n",
    "        plt.scatter(X_set[y_set == j, 0], X_set[y_set == j, 1],\n",
    "                c = (zero_one_colourmap)(i), label = j)\n",
    "    plt.title('SVM Decision Boundary')\n",
    "    plt.xlabel('X1')\n",
    "    plt.ylabel('X2')\n",
    "    plt.legend()\n",
    "    return plt.show()"
   ]
  },
  {
   "cell_type": "code",
   "execution_count": 32,
   "id": "c44e12ba",
   "metadata": {},
   "outputs": [
    {
     "name": "stderr",
     "output_type": "stream",
     "text": [
      "*c* argument looks like a single numeric RGB or RGBA sequence, which should be avoided as value-mapping will have precedence in case its length matches with *x* & *y*.  Please use the *color* keyword-argument or provide a 2-D array with a single row if you intend to specify the same RGB or RGBA value for all points.\n",
      "*c* argument looks like a single numeric RGB or RGBA sequence, which should be avoided as value-mapping will have precedence in case its length matches with *x* & *y*.  Please use the *color* keyword-argument or provide a 2-D array with a single row if you intend to specify the same RGB or RGBA value for all points.\n"
     ]
    },
    {
     "data": {
      "image/png": "[encoded data removed]",
      "text/plain": [
       "<Figure size 432x288 with 1 Axes>"
      ]
     },
     "metadata": {
      "needs_background": "light"
     },
     "output_type": "display_data"
    }
   ],
   "source": [
    "plot_decision_boundary(X, y, classifier)"
   ]
  },
  {
   "cell_type": "code",
   "execution_count": 33,
   "id": "9cc2bfb1",
   "metadata": {},
   "outputs": [],
   "source": [
    "def plot_3d_plot(X, y):\n",
    "    r = np.exp(-(X ** 2).sum(1))\n",
    "    ax = plt.subplot(projection='3d')\n",
    "    ax.scatter3D(X[:, 0], X[:, 1], r, c=y, s=100, cmap='bwr')\n",
    "    ax.set_xlabel('X1')\n",
    "    ax.set_ylabel('X2')\n",
    "    ax.set_zlabel('y')\n",
    "    return ax"
   ]
  },
  {
   "cell_type": "code",
   "execution_count": 34,
   "id": "11faf93a",
   "metadata": {},
   "outputs": [
    {
     "data": {
      "text/plain": [
       "<Axes3DSubplot:xlabel='X1', ylabel='X2'>"
      ]
     },
     "execution_count": 34,
     "metadata": {},
     "output_type": "execute_result"
    },
    {
     "data": {
      "image/png": "[encoded data removed]",
      "text/plain": [
       "<Figure size 432x288 with 1 Axes>"
      ]
     },
     "metadata": {
      "needs_background": "light"
     },
     "output_type": "display_data"
    }
   ],
   "source": [
    "plot_3d_plot(X,y)"
   ]
  },
  {
   "cell_type": "code",
   "execution_count": 35,
   "id": "c309e361",
   "metadata": {},
   "outputs": [],
   "source": [
    "rbf_classifier = SVC(kernel=\"rbf\")\n",
    "rbf_classifier.fit(X_train, y_train)\n",
    "y_pred = rbf_classifier.predict(X_test)"
   ]
  },
  {
   "cell_type": "code",
   "execution_count": 36,
   "id": "2caa95f3",
   "metadata": {},
   "outputs": [
    {
     "data": {
      "text/plain": [
       "1.0"
      ]
     },
     "execution_count": 36,
     "metadata": {},
     "output_type": "execute_result"
    }
   ],
   "source": [
    "accuracy_score(y_test, y_pred)"
   ]
  },
  {
   "cell_type": "code",
   "execution_count": 37,
   "id": "e09152bc",
   "metadata": {},
   "outputs": [
    {
     "name": "stderr",
     "output_type": "stream",
     "text": [
      "*c* argument looks like a single numeric RGB or RGBA sequence, which should be avoided as value-mapping will have precedence in case its length matches with *x* & *y*.  Please use the *color* keyword-argument or provide a 2-D array with a single row if you intend to specify the same RGB or RGBA value for all points.\n",
      "*c* argument looks like a single numeric RGB or RGBA sequence, which should be avoided as value-mapping will have precedence in case its length matches with *x* & *y*.  Please use the *color* keyword-argument or provide a 2-D array with a single row if you intend to specify the same RGB or RGBA value for all points.\n"
     ]
    },
    {
     "data": {
      "image/png": "[encoded data removed]",
      "text/plain": [
       "<Figure size 432x288 with 1 Axes>"
      ]
     },
     "metadata": {
      "needs_background": "light"
     },
     "output_type": "display_data"
    }
   ],
   "source": [
    "plot_decision_boundary(X, y, rbf_classifier)"
   ]
  },
  {
   "cell_type": "code",
   "execution_count": 38,
   "id": "4415ee4f",
   "metadata": {},
   "outputs": [],
   "source": [
    "poly_classifier = SVC(kernel=\"poly\") #degree = 3 by default\n",
    "poly_classifier.fit(X_train, y_train)\n",
    "y_pred = poly_classifier.predict(X_test)"
   ]
  },
  {
   "cell_type": "code",
   "execution_count": 39,
   "id": "e35fd8bb",
   "metadata": {},
   "outputs": [
    {
     "data": {
      "text/plain": [
       "0.5"
      ]
     },
     "execution_count": 39,
     "metadata": {},
     "output_type": "execute_result"
    }
   ],
   "source": [
    "accuracy_score(y_test, y_pred)"
   ]
  },
  {
   "cell_type": "code",
   "execution_count": 41,
   "id": "b5d053c5",
   "metadata": {},
   "outputs": [
    {
     "name": "stderr",
     "output_type": "stream",
     "text": [
      "*c* argument looks like a single numeric RGB or RGBA sequence, which should be avoided as value-mapping will have precedence in case its length matches with *x* & *y*.  Please use the *color* keyword-argument or provide a 2-D array with a single row if you intend to specify the same RGB or RGBA value for all points.\n",
      "*c* argument looks like a single numeric RGB or RGBA sequence, which should be avoided as value-mapping will have precedence in case its length matches with *x* & *y*.  Please use the *color* keyword-argument or provide a 2-D array with a single row if you intend to specify the same RGB or RGBA value for all points.\n"
     ]
    },
    {
     "data": {
      "image/png": "[encoded data removed]",
      "text/plain": [
       "<Figure size 432x288 with 1 Axes>"
      ]
     },
     "metadata": {
      "needs_background": "light"
     },
     "output_type": "display_data"
    }
   ],
   "source": [
    "plot_decision_boundary(X, y, poly_classifier)"
   ]
  },
  {
   "cell_type": "code",
   "execution_count": 42,
   "id": "bfcaac22",
   "metadata": {},
   "outputs": [],
   "source": [
    "poly_classifier = SVC(kernel=\"poly\",degree=2) #degree = 3 by default\n",
    "poly_classifier.fit(X_train, y_train)\n",
    "y_pred = poly_classifier.predict(X_test)"
   ]
  },
  {
   "cell_type": "code",
   "execution_count": 43,
   "id": "8f16a4e6",
   "metadata": {},
   "outputs": [
    {
     "data": {
      "text/plain": [
       "1.0"
      ]
     },
     "execution_count": 43,
     "metadata": {},
     "output_type": "execute_result"
    }
   ],
   "source": [
    "accuracy_score(y_test, y_pred)"
   ]
  },
  {
   "cell_type": "code",
   "execution_count": 44,
   "id": "a48b51a7",
   "metadata": {},
   "outputs": [
    {
     "name": "stderr",
     "output_type": "stream",
     "text": [
      "*c* argument looks like a single numeric RGB or RGBA sequence, which should be avoided as value-mapping will have precedence in case its length matches with *x* & *y*.  Please use the *color* keyword-argument or provide a 2-D array with a single row if you intend to specify the same RGB or RGBA value for all points.\n",
      "*c* argument looks like a single numeric RGB or RGBA sequence, which should be avoided as value-mapping will have precedence in case its length matches with *x* & *y*.  Please use the *color* keyword-argument or provide a 2-D array with a single row if you intend to specify the same RGB or RGBA value for all points.\n"
     ]
    },
    {
     "data": {
      "image/png": "[encoded data removed]",
      "text/plain": [
       "<Figure size 432x288 with 1 Axes>"
      ]
     },
     "metadata": {
      "needs_background": "light"
     },
     "output_type": "display_data"
    }
   ],
   "source": [
    "plot_decision_boundary(X, y, poly_classifier)"
   ]
  },
  {
   "cell_type": "code",
   "execution_count": 45,
   "id": "ce351655",
   "metadata": {},
   "outputs": [
    {
     "data": {
      "text/plain": [
       "array([[-0.34417492,  0.08714225],\n",
       "       [-0.46063156, -0.93061218],\n",
       "       [-0.03588737,  0.18193526],\n",
       "       [-0.10982382, -0.04123372],\n",
       "       [ 0.08412191,  0.05714896],\n",
       "       [-0.93333034, -0.574295  ],\n",
       "       [ 0.22533001,  0.26775472],\n",
       "       [ 0.13526738,  0.09955367],\n",
       "       [-0.00976519, -0.95369595],\n",
       "       [-0.34473868,  0.63231727],\n",
       "       [ 0.12227065, -1.20699075],\n",
       "       [-0.4594292 , -0.77503953],\n",
       "       [-0.04441645, -0.07537766],\n",
       "       [ 0.44559235, -0.87449827],\n",
       "       [ 0.67709872, -0.88394386],\n",
       "       [-0.00572411, -0.05251175],\n",
       "       [-0.18961097,  0.07746382],\n",
       "       [ 0.89340432, -0.07302636],\n",
       "       [ 0.38839652,  0.96370412],\n",
       "       [-0.24945495, -0.97527312],\n",
       "       [ 1.14902471, -0.26054781],\n",
       "       [-0.15276851,  0.12037213],\n",
       "       [-0.12253934, -0.14887049],\n",
       "       [ 0.00455342,  0.04038211],\n",
       "       [ 0.21103876,  0.01767062],\n",
       "       [-0.13412029, -0.13473063],\n",
       "       [-0.02327442,  0.02707364],\n",
       "       [ 0.64021939, -0.59191621],\n",
       "       [-0.72785085,  0.51828524],\n",
       "       [-0.19600722,  0.88102588],\n",
       "       [ 0.65758228, -0.9362612 ],\n",
       "       [ 1.05848683, -0.23238611],\n",
       "       [-0.10169673, -0.16962375],\n",
       "       [-0.68931558, -0.68163742],\n",
       "       [-0.94300277,  0.49980547],\n",
       "       [ 0.09286232,  1.05674462],\n",
       "       [-0.08203381,  0.02314819],\n",
       "       [-0.39716695,  0.87325363],\n",
       "       [-1.01920957,  0.24481328],\n",
       "       [-0.0286668 ,  0.07314828],\n",
       "       [-0.93982864, -0.20450181],\n",
       "       [ 0.3214108 ,  0.8903819 ],\n",
       "       [ 0.15365144, -0.1585813 ],\n",
       "       [ 0.48597268, -0.92654619],\n",
       "       [-0.97218755, -0.37755331],\n",
       "       [-0.03462305, -0.09594837],\n",
       "       [ 0.94641891, -0.36000948],\n",
       "       [-0.10647497, -0.18836435],\n",
       "       [ 0.13055797, -0.07406365],\n",
       "       [-0.08422207,  0.12721309],\n",
       "       [ 0.11392764,  0.09082699],\n",
       "       [ 0.86139284,  0.75132383],\n",
       "       [ 0.21424527,  0.0188919 ],\n",
       "       [ 0.72964156, -0.8358039 ],\n",
       "       [-0.86571862, -0.49053258],\n",
       "       [-0.09880834, -0.02395549],\n",
       "       [ 1.09329064, -0.13373488],\n",
       "       [-0.12896357, -0.11115754],\n",
       "       [-0.46363527, -1.09279336],\n",
       "       [ 0.20792649, -0.03109864],\n",
       "       [ 0.30132074,  0.00128202],\n",
       "       [ 1.05585327,  0.45996901],\n",
       "       [ 0.19658419, -0.16539028],\n",
       "       [ 0.0620171 , -0.13448119],\n",
       "       [-0.19653546,  0.07364086],\n",
       "       [-0.48357294,  0.91931178],\n",
       "       [ 0.01985219, -0.08745236],\n",
       "       [-0.75848176, -0.61984522],\n",
       "       [-1.14310483,  0.29374034],\n",
       "       [ 0.16558352,  0.11128976],\n",
       "       [-0.92843057,  0.77834991],\n",
       "       [-0.06831025, -0.05110616],\n",
       "       [ 1.07549411,  0.27897228],\n",
       "       [ 0.10265041,  0.08129899],\n",
       "       [ 0.15130014,  0.1092178 ],\n",
       "       [ 0.04729237, -0.17361989],\n",
       "       [ 0.49498105,  0.91535686],\n",
       "       [-0.04252859,  0.18130552],\n",
       "       [ 0.14144547,  0.07408852],\n",
       "       [ 0.01793104,  0.10088981],\n",
       "       [-1.07403303,  0.47168616],\n",
       "       [-0.15939624, -0.07344208],\n",
       "       [ 0.3217462 ,  1.00638349],\n",
       "       [-0.07562345, -0.09837389],\n",
       "       [ 0.01551293, -0.99042631],\n",
       "       [ 0.58020438,  0.76856711],\n",
       "       [-0.86820454, -0.00562726],\n",
       "       [ 0.06714291,  1.1611182 ],\n",
       "       [ 0.15302604,  0.08233377],\n",
       "       [ 0.63095323,  0.72578649],\n",
       "       [ 0.93255522, -0.52175483],\n",
       "       [-0.33120601, -0.04502691],\n",
       "       [-0.66705846,  0.97830093],\n",
       "       [ 0.1393977 , -0.00416432],\n",
       "       [-0.09230851, -0.06909626],\n",
       "       [-0.91813712, -0.18775201],\n",
       "       [-0.00238916, -0.00458379],\n",
       "       [ 0.17107897, -0.01310236],\n",
       "       [-0.22169967,  0.16654025],\n",
       "       [ 1.02592285,  0.56555792]])"
      ]
     },
     "execution_count": 45,
     "metadata": {},
     "output_type": "execute_result"
    }
   ],
   "source": [
    "X"
   ]
  },
  {
   "cell_type": "code",
   "execution_count": 52,
   "id": "a8ee1732",
   "metadata": {},
   "outputs": [
    {
     "data": {
      "text/plain": [
       "array([[0.88829056, 0.99243499],\n",
       "       [0.80881794, 0.42061429],\n",
       "       [0.99871293, 0.96744139],\n",
       "       [0.98801117, 0.99830122],\n",
       "       [0.99294848, 0.99673932],\n",
       "       [0.41848865, 0.71905693],\n",
       "       [0.95049382, 0.93081699],\n",
       "       [0.98186911, 0.99013802],\n",
       "       [0.99990465, 0.40271105],\n",
       "       [0.88794564, 0.67043727],\n",
       "       [0.98516109, 0.2329744 ],\n",
       "       [0.80971318, 0.54843513],\n",
       "       [0.99802912, 0.99433432],\n",
       "       [0.81991669, 0.46545157],\n",
       "       [0.63225488, 0.4577845 ],\n",
       "       [0.99996724, 0.99724631],\n",
       "       [0.96468629, 0.99401732],\n",
       "       [0.45015142, 0.99468135],\n",
       "       [0.85997509, 0.39505683],\n",
       "       [0.93966883, 0.38629357],\n",
       "       [0.26706645, 0.93436777],\n",
       "       [0.97693201, 0.98561502],\n",
       "       [0.98509629, 0.97808136],\n",
       "       [0.99997927, 0.99837061],\n",
       "       [0.95643987, 0.9996878 ],\n",
       "       [0.98217257, 0.98201142],\n",
       "       [0.99945845, 0.99926729],\n",
       "       [0.66372932, 0.70443107],\n",
       "       [0.58874221, 0.764434  ],\n",
       "       [0.96230981, 0.46014823],\n",
       "       [0.64894037, 0.41620181],\n",
       "       [0.32615114, 0.94742898],\n",
       "       [0.98971107, 0.97163776],\n",
       "       [0.62178807, 0.62836782],\n",
       "       [0.41096212, 0.77895227],\n",
       "       [0.99141366, 0.32735529],\n",
       "       [0.99329305, 0.9994643 ],\n",
       "       [0.85407046, 0.46646518],\n",
       "       [0.35388327, 0.94182713],\n",
       "       [0.99917855, 0.99466362],\n",
       "       [0.41342553, 0.95904144],\n",
       "       [0.90185195, 0.45258489],\n",
       "       [0.97666774, 0.97516555],\n",
       "       [0.78964686, 0.42380245],\n",
       "       [0.38862181, 0.86714723],\n",
       "       [0.99880196, 0.99083616],\n",
       "       [0.4083181 , 0.87844074],\n",
       "       [0.9887271 , 0.96514095],\n",
       "       [0.98309907, 0.99452959],\n",
       "       [0.99293174, 0.98394707],\n",
       "       [0.98710436, 0.99178439],\n",
       "       [0.47616177, 0.5686515 ],\n",
       "       [0.95513648, 0.99964316],\n",
       "       [0.58720763, 0.49729685],\n",
       "       [0.47261757, 0.78613856],\n",
       "       [0.99028442, 0.9994263 ],\n",
       "       [0.30261787, 0.98227397],\n",
       "       [0.98350594, 0.98772002],\n",
       "       [0.80657559, 0.30294702],\n",
       "       [0.95768781, 0.99903334],\n",
       "       [0.91320564, 0.99999836],\n",
       "       [0.3279723 , 0.80931142],\n",
       "       [0.96209186, 0.97301679],\n",
       "       [0.99616127, 0.98207736],\n",
       "       [0.96211029, 0.9945917 ],\n",
       "       [0.79148623, 0.42949973],\n",
       "       [0.99960597, 0.99238126],\n",
       "       [0.56253913, 0.6809897 ],\n",
       "       [0.270715  , 0.91733423],\n",
       "       [0.97295456, 0.98769097],\n",
       "       [0.42232365, 0.54562215],\n",
       "       [0.99534458, 0.99739157],\n",
       "       [0.3145263 , 0.92512581],\n",
       "       [0.98951821, 0.99341227],\n",
       "       [0.9773683 , 0.98814233],\n",
       "       [0.99776593, 0.97030593],\n",
       "       [0.78269965, 0.43262751],\n",
       "       [0.99819295, 0.96766271],\n",
       "       [0.98019199, 0.99452593],\n",
       "       [0.99967853, 0.98987288],\n",
       "       [0.31551566, 0.80052474],\n",
       "       [0.97491289, 0.99462078],\n",
       "       [0.90165743, 0.36319778],\n",
       "       [0.99429742, 0.99036925],\n",
       "       [0.99975938, 0.37495687],\n",
       "       [0.71416795, 0.55394194],\n",
       "       [0.47058479, 0.99996833],\n",
       "       [0.99550198, 0.25970849],\n",
       "       [0.97685508, 0.99324407],\n",
       "       [0.67159353, 0.59051158],\n",
       "       [0.41909433, 0.7616805 ],\n",
       "       [0.89610524, 0.99797463],\n",
       "       [0.64084543, 0.38401536],\n",
       "       [0.98075586, 0.99998266],\n",
       "       [0.99151534, 0.99523709],\n",
       "       [0.43042776, 0.96536326],\n",
       "       [0.99999429, 0.99997899],\n",
       "       [0.97115615, 0.99982834],\n",
       "       [0.9520376 , 0.97264545],\n",
       "       [0.34905782, 0.72625378]])"
      ]
     },
     "execution_count": 52,
     "metadata": {},
     "output_type": "execute_result"
    }
   ],
   "source": [
    "X_new=np.exp(-(X**2))\n",
    "X_new"
   ]
  },
  {
   "cell_type": "code",
   "execution_count": 53,
   "id": "a0750a74",
   "metadata": {},
   "outputs": [
    {
     "data": {
      "text/plain": [
       "array([1.88072555, 1.22943223, 1.96615431, 1.9863124 , 1.98968781,\n",
       "       1.13754557, 1.88131082, 1.97200713, 1.4026157 , 1.55838291,\n",
       "       1.21813549, 1.35814831, 1.99236344, 1.28536826, 1.09003938,\n",
       "       1.99721355, 1.95870361, 1.44483276, 1.25503193, 1.3259624 ,\n",
       "       1.20143421, 1.96254703, 1.96317765, 1.99834988, 1.95612767,\n",
       "       1.96418399, 1.99872574, 1.36816039, 1.35317621, 1.42245804,\n",
       "       1.06514217, 1.27358012, 1.96134884, 1.25015589, 1.18991439,\n",
       "       1.31876895, 1.99275735, 1.32053564, 1.2957104 , 1.99384217,\n",
       "       1.37246698, 1.35443684, 1.95183329, 1.21344932, 1.25576903,\n",
       "       1.98963812, 1.28675884, 1.95386805, 1.97762866, 1.97687881,\n",
       "       1.97888876, 1.04481327, 1.95477964, 1.08450448, 1.25875614,\n",
       "       1.98971071, 1.28489184, 1.97122596, 1.10952261, 1.95672116,\n",
       "       1.913204  , 1.13728372, 1.93510865, 1.97823863, 1.95670199,\n",
       "       1.22098597, 1.99198722, 1.24352883, 1.18804924, 1.96064553,\n",
       "       0.96794579, 1.99273615, 1.23965211, 1.98293048, 1.96551063,\n",
       "       1.96807186, 1.21532716, 1.96585567, 1.97471792, 1.9895514 ,\n",
       "       1.11604041, 1.96953367, 1.26485521, 1.98466667, 1.37471625,\n",
       "       1.26810989, 1.47055312, 1.25521047, 1.97009915, 1.26210512,\n",
       "       1.18077483, 1.89407987, 1.02486079, 1.98073852, 1.98675242,\n",
       "       1.39579101, 1.99997328, 1.97098449, 1.92468305, 1.0753116 ])"
      ]
     },
     "execution_count": 53,
     "metadata": {},
     "output_type": "execute_result"
    }
   ],
   "source": [
    "np.exp(-(X**2)).sum(1)"
   ]
  },
  {
   "cell_type": "code",
   "execution_count": 54,
   "id": "d8aeb9d2",
   "metadata": {},
   "outputs": [
    {
     "data": {
      "text/plain": [
       "<matplotlib.collections.PathCollection at 0x20b470e0d60>"
      ]
     },
     "execution_count": 54,
     "metadata": {},
     "output_type": "execute_result"
    },
    {
     "data": {
      "image/png": "[encoded data removed]",
      "text/plain": [
       "<Figure size 432x288 with 1 Axes>"
      ]
     },
     "metadata": {
      "needs_background": "light"
     },
     "output_type": "display_data"
    }
   ],
   "source": [
    "plt.scatter(X_new[:,0],X_new[:,1],c=y,s=50,cmap=\"bwr\")"
   ]
  },
  {
   "cell_type": "code",
   "execution_count": null,
   "id": "b01111ef",
   "metadata": {},
   "outputs": [],
   "source": []
  }
 ],
 "metadata": {
  "kernelspec": {
   "display_name": "Python 3",
   "language": "python",
   "name": "python3"
  },
  "language_info": {
   "codemirror_mode": {
    "name": "ipython",
    "version": 3
   },
   "file_extension": ".py",
   "mimetype": "text/x-python",
   "name": "python",
   "nbconvert_exporter": "python",
   "pygments_lexer": "ipython3",
   "version": "3.8.8"
  }
 },
 "nbformat": 4,
 "nbformat_minor": 5
}
